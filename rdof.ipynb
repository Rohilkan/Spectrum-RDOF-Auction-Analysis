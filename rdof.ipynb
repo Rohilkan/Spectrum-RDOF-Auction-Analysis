{
 "cells": [
  {
   "cell_type": "markdown",
   "metadata": {},
   "source": [
    "## Imports"
   ]
  },
  {
   "cell_type": "code",
   "execution_count": null,
   "metadata": {},
   "outputs": [],
   "source": [
    "import numpy as np, pandas as pd, seaborn as sns, matplotlib.pyplot as plt\n",
    "# import sklearn, re\n",
    "# from sklearn.preprocessing import OneHotEncoder, MinMaxScaler, StandardScaler\n",
    "# from sklearn.impute import SimpleImputer, KNNImputer\n",
    "# from sklearn.model_selection import train_test_split\n",
    "# from sklearn.linear_model import LinearRegression\n",
    "# from sklearn.metrics import mean_squared_error, mean_absolute_error, mean_absolute_percentage_error"
   ]
  },
  {
   "attachments": {},
   "cell_type": "markdown",
   "metadata": {},
   "source": [
    "## Loading and Saving Data\n",
    "---\n",
    "-  `sat` = Form 477 Satellite Data\n",
    "-  `authorized` = Authorized Auction 904 bidder data *(1/13/23)*\n",
    "-  `ready` = Ready to Authorize 904 bidder data *(12/16/22)*\n",
    "-  `defaults` = Census Blocks Covered by Defaults Auction 904 data *(12/16/22)*"
   ]
  },
  {
   "cell_type": "code",
   "execution_count": null,
   "metadata": {},
   "outputs": [],
   "source": [
    "authorized = pd.read_excel(\"data/excel/authorized_904.xlsx\", skiprows=1)"
   ]
  },
  {
   "cell_type": "code",
   "execution_count": null,
   "metadata": {},
   "outputs": [],
   "source": [
    "defaults = pd.read_excel(\"data/excel/block_by_defaults.xlsx\", skiprows = 1)"
   ]
  },
  {
   "cell_type": "code",
   "execution_count": null,
   "metadata": {},
   "outputs": [],
   "source": [
    "ready = pd.read_excel(\"data/excel/ready_to_authorize.xlsx\", skiprows = 5)\n",
    "#ready.to_pickle(\"data/pickle/ready_to_authorize.pickle\")"
   ]
  },
  {
   "attachments": {},
   "cell_type": "markdown",
   "metadata": {},
   "source": [
    "#### Pickling Data"
   ]
  },
  {
   "cell_type": "code",
   "execution_count": 291,
   "metadata": {},
   "outputs": [],
   "source": [
    "authorized.to_pickle(\"data/pickle/authorized_904.pickle\")\n",
    "defaults.to_pickle(\"data/pickle/block_by_defaults.pickle\")\n",
    "ready.to_pickle(\"data/pickle/ready_to_authorize.pickle\")"
   ]
  },
  {
   "attachments": {},
   "cell_type": "markdown",
   "metadata": {},
   "source": [
    "---\n",
    "### Reading in Data"
   ]
  },
  {
   "cell_type": "code",
   "execution_count": 292,
   "metadata": {},
   "outputs": [],
   "source": [
    "authorized = pd.read_pickle(\"data/pickle/authorized_904.pickle\")\n",
    "defaults = pd.read_pickle(\"data/pickle/block_by_defaults.pickle\")\n",
    "ready = pd.read_pickle(\"data/pickle/ready_to_authorize.pickle\")"
   ]
  },
  {
   "attachments": {},
   "cell_type": "markdown",
   "metadata": {},
   "source": [
    "---\n",
    "### Cleaning / Manipulating `authorized` – preparing for merging\n",
    " - `SAC` – Servicing Accountint Code (Unique)\n",
    " - `FRN` – FCC Registration Number ()"
   ]
  },
  {
   "cell_type": "code",
   "execution_count": 293,
   "metadata": {},
   "outputs": [
    {
     "data": {
      "text/html": [
       "<div>\n",
       "<style scoped>\n",
       "    .dataframe tbody tr th:only-of-type {\n",
       "        vertical-align: middle;\n",
       "    }\n",
       "\n",
       "    .dataframe tbody tr th {\n",
       "        vertical-align: top;\n",
       "    }\n",
       "\n",
       "    .dataframe thead th {\n",
       "        text-align: right;\n",
       "    }\n",
       "</style>\n",
       "<table border=\"1\" class=\"dataframe\">\n",
       "  <thead>\n",
       "    <tr style=\"text-align: right;\">\n",
       "      <th></th>\n",
       "      <th>Applicant Name</th>\n",
       "      <th>FRN</th>\n",
       "      <th>State</th>\n",
       "      <th>SAC</th>\n",
       "      <th>Total Winning Bid (over 10 Years)</th>\n",
       "      <th>Number of Locations</th>\n",
       "      <th>Winning Bidder</th>\n",
       "      <th>DA Numbers</th>\n",
       "    </tr>\n",
       "  </thead>\n",
       "  <tbody>\n",
       "    <tr>\n",
       "      <th>0</th>\n",
       "      <td>3E8 Broadband Solutions, LLC</td>\n",
       "      <td>27362102</td>\n",
       "      <td>Arkansas</td>\n",
       "      <td>409045</td>\n",
       "      <td>20547686.8</td>\n",
       "      <td>15523</td>\n",
       "      <td>Prospero Broadband Consortium</td>\n",
       "      <td>DA 21-1287</td>\n",
       "    </tr>\n",
       "    <tr>\n",
       "      <th>1</th>\n",
       "      <td>4 IP Technology and Media, LLC</td>\n",
       "      <td>25529751</td>\n",
       "      <td>Texas</td>\n",
       "      <td>449102</td>\n",
       "      <td>1083506.5</td>\n",
       "      <td>3273</td>\n",
       "      <td>NexTier Consortium</td>\n",
       "      <td>DA 22-634</td>\n",
       "    </tr>\n",
       "    <tr>\n",
       "      <th>2</th>\n",
       "      <td>4-County Fiber, LLC</td>\n",
       "      <td>30289946</td>\n",
       "      <td>Mississippi</td>\n",
       "      <td>289044</td>\n",
       "      <td>35584877.1</td>\n",
       "      <td>12170</td>\n",
       "      <td>Prospero Broadband Consortium</td>\n",
       "      <td>DA 21-1287</td>\n",
       "    </tr>\n",
       "    <tr>\n",
       "      <th>3</th>\n",
       "      <td>Advantage Cellular Systems, Inc.</td>\n",
       "      <td>1768159</td>\n",
       "      <td>Tennessee</td>\n",
       "      <td>299905</td>\n",
       "      <td>296838.0</td>\n",
       "      <td>163</td>\n",
       "      <td>Tennessee Cooperative Group Consortium</td>\n",
       "      <td>DA 22-280</td>\n",
       "    </tr>\n",
       "    <tr>\n",
       "      <th>4</th>\n",
       "      <td>Aeneas Communications, LLC</td>\n",
       "      <td>9361080</td>\n",
       "      <td>Tennessee</td>\n",
       "      <td>299013</td>\n",
       "      <td>6903771.0</td>\n",
       "      <td>10393</td>\n",
       "      <td>Prospero Broadband Consortium</td>\n",
       "      <td>DA 21-1287</td>\n",
       "    </tr>\n",
       "  </tbody>\n",
       "</table>\n",
       "</div>"
      ],
      "text/plain": [
       "                     Applicant Name       FRN        State     SAC  \\\n",
       "0      3E8 Broadband Solutions, LLC  27362102     Arkansas  409045   \n",
       "1    4 IP Technology and Media, LLC  25529751        Texas  449102   \n",
       "2               4-County Fiber, LLC  30289946  Mississippi  289044   \n",
       "3  Advantage Cellular Systems, Inc.   1768159    Tennessee  299905   \n",
       "4        Aeneas Communications, LLC   9361080    Tennessee  299013   \n",
       "\n",
       "   Total Winning Bid (over 10 Years)  Number of Locations  \\\n",
       "0                         20547686.8                15523   \n",
       "1                          1083506.5                 3273   \n",
       "2                         35584877.1                12170   \n",
       "3                           296838.0                  163   \n",
       "4                          6903771.0                10393   \n",
       "\n",
       "                           Winning Bidder  DA Numbers  \n",
       "0           Prospero Broadband Consortium  DA 21-1287  \n",
       "1                      NexTier Consortium   DA 22-634  \n",
       "2           Prospero Broadband Consortium  DA 21-1287  \n",
       "3  Tennessee Cooperative Group Consortium   DA 22-280  \n",
       "4           Prospero Broadband Consortium  DA 21-1287  "
      ]
     },
     "execution_count": 293,
     "metadata": {},
     "output_type": "execute_result"
    }
   ],
   "source": [
    "# Rename columns for ease of use\n",
    "authorized = (authorized\n",
    "            .rename(\n",
    "            {authorized.columns[0]: \"Applicant Name\", \n",
    "            authorized.columns[4]:\"Total Winning Bid (over 10 Years)\", \n",
    "            authorized.columns[5]: \"Number of Locations\"}, axis=1))\n",
    "\n",
    "# variable to store winning bids columns name\n",
    "winningBids = \"Total Winning Bid (over 10 Years)\"\n",
    "\n",
    "authorized.head()"
   ]
  },
  {
   "cell_type": "code",
   "execution_count": 294,
   "metadata": {},
   "outputs": [
    {
     "data": {
      "text/html": [
       "<div>\n",
       "<style scoped>\n",
       "    .dataframe tbody tr th:only-of-type {\n",
       "        vertical-align: middle;\n",
       "    }\n",
       "\n",
       "    .dataframe tbody tr th {\n",
       "        vertical-align: top;\n",
       "    }\n",
       "\n",
       "    .dataframe thead th {\n",
       "        text-align: right;\n",
       "    }\n",
       "</style>\n",
       "<table border=\"1\" class=\"dataframe\">\n",
       "  <thead>\n",
       "    <tr style=\"text-align: right;\">\n",
       "      <th></th>\n",
       "      <th>FRN</th>\n",
       "    </tr>\n",
       "  </thead>\n",
       "  <tbody>\n",
       "    <tr>\n",
       "      <th>21701891</th>\n",
       "      <td>11</td>\n",
       "    </tr>\n",
       "    <tr>\n",
       "      <th>29721511</th>\n",
       "      <td>10</td>\n",
       "    </tr>\n",
       "    <tr>\n",
       "      <th>3746757</th>\n",
       "      <td>7</td>\n",
       "    </tr>\n",
       "    <tr>\n",
       "      <th>24535437</th>\n",
       "      <td>7</td>\n",
       "    </tr>\n",
       "    <tr>\n",
       "      <th>28957306</th>\n",
       "      <td>5</td>\n",
       "    </tr>\n",
       "    <tr>\n",
       "      <th>...</th>\n",
       "      <td>...</td>\n",
       "    </tr>\n",
       "    <tr>\n",
       "      <th>1566306</th>\n",
       "      <td>1</td>\n",
       "    </tr>\n",
       "    <tr>\n",
       "      <th>4242723</th>\n",
       "      <td>1</td>\n",
       "    </tr>\n",
       "    <tr>\n",
       "      <th>25803800</th>\n",
       "      <td>1</td>\n",
       "    </tr>\n",
       "    <tr>\n",
       "      <th>5848759</th>\n",
       "      <td>1</td>\n",
       "    </tr>\n",
       "    <tr>\n",
       "      <th>30274997</th>\n",
       "      <td>1</td>\n",
       "    </tr>\n",
       "  </tbody>\n",
       "</table>\n",
       "<p>382 rows × 1 columns</p>\n",
       "</div>"
      ],
      "text/plain": [
       "          FRN\n",
       "21701891   11\n",
       "29721511   10\n",
       "3746757     7\n",
       "24535437    7\n",
       "28957306    5\n",
       "...       ...\n",
       "1566306     1\n",
       "4242723     1\n",
       "25803800    1\n",
       "5848759     1\n",
       "30274997    1\n",
       "\n",
       "[382 rows x 1 columns]"
      ]
     },
     "execution_count": 294,
     "metadata": {},
     "output_type": "execute_result"
    }
   ],
   "source": [
    "authorized[\"FRN\"].value_counts().to_frame()"
   ]
  },
  {
   "attachments": {},
   "cell_type": "markdown",
   "metadata": {},
   "source": [
    "#### FRNs by Applicant"
   ]
  },
  {
   "cell_type": "code",
   "execution_count": 295,
   "metadata": {},
   "outputs": [
    {
     "data": {
      "text/html": [
       "<div>\n",
       "<style scoped>\n",
       "    .dataframe tbody tr th:only-of-type {\n",
       "        vertical-align: middle;\n",
       "    }\n",
       "\n",
       "    .dataframe tbody tr th {\n",
       "        vertical-align: top;\n",
       "    }\n",
       "\n",
       "    .dataframe thead th {\n",
       "        text-align: right;\n",
       "    }\n",
       "</style>\n",
       "<table border=\"1\" class=\"dataframe\">\n",
       "  <thead>\n",
       "    <tr style=\"text-align: right;\">\n",
       "      <th></th>\n",
       "      <th>FRN</th>\n",
       "    </tr>\n",
       "    <tr>\n",
       "      <th>Applicant Name</th>\n",
       "      <th></th>\n",
       "    </tr>\n",
       "  </thead>\n",
       "  <tbody>\n",
       "    <tr>\n",
       "      <th>AMG Technology Investment Group, LLC</th>\n",
       "      <td>11</td>\n",
       "    </tr>\n",
       "    <tr>\n",
       "      <th>Conexon Connect LLC</th>\n",
       "      <td>10</td>\n",
       "    </tr>\n",
       "    <tr>\n",
       "      <th>Qwest Corporation</th>\n",
       "      <td>7</td>\n",
       "    </tr>\n",
       "    <tr>\n",
       "      <th>Resound Networks, LLC</th>\n",
       "      <td>7</td>\n",
       "    </tr>\n",
       "    <tr>\n",
       "      <th>Point Broadband Fiber Holding, LLC</th>\n",
       "      <td>5</td>\n",
       "    </tr>\n",
       "  </tbody>\n",
       "</table>\n",
       "</div>"
      ],
      "text/plain": [
       "                                      FRN\n",
       "Applicant Name                           \n",
       "AMG Technology Investment Group, LLC   11\n",
       "Conexon Connect LLC                    10\n",
       "Qwest Corporation                       7\n",
       "Resound Networks, LLC                   7\n",
       "Point Broadband Fiber Holding, LLC      5"
      ]
     },
     "execution_count": 295,
     "metadata": {},
     "output_type": "execute_result"
    }
   ],
   "source": [
    "FRN_by_state = authorized.groupby(\"Applicant Name\")['FRN'].count().sort_values(ascending=False).to_frame()\n",
    "FRN_by_state.head()"
   ]
  },
  {
   "attachments": {},
   "cell_type": "markdown",
   "metadata": {},
   "source": [
    "#### Log Distribution Plot of Winning Bids for Authorized Bidders"
   ]
  },
  {
   "cell_type": "code",
   "execution_count": 296,
   "metadata": {},
   "outputs": [
    {
     "data": {
      "image/png": "[encoded data removed]",
      "text/plain": [
       "<Figure size 432x288 with 1 Axes>"
      ]
     },
     "metadata": {
      "needs_background": "light"
     },
     "output_type": "display_data"
    }
   ],
   "source": [
    "log_bid_histplot = (np.log(authorized[winningBids])\n",
    "                    .plot(kind = \"hist\", \n",
    "                    title = \"Log Distribution of Winning Bids Among Authorized Bidders\"))"
   ]
  },
  {
   "attachments": {},
   "cell_type": "markdown",
   "metadata": {},
   "source": [
    "#### Authorized Maximum Winning Bid by State"
   ]
  },
  {
   "cell_type": "code",
   "execution_count": 342,
   "metadata": {},
   "outputs": [
    {
     "data": {
      "text/html": [
       "<div>\n",
       "<style scoped>\n",
       "    .dataframe tbody tr th:only-of-type {\n",
       "        vertical-align: middle;\n",
       "    }\n",
       "\n",
       "    .dataframe tbody tr th {\n",
       "        vertical-align: top;\n",
       "    }\n",
       "\n",
       "    .dataframe thead th {\n",
       "        text-align: right;\n",
       "    }\n",
       "</style>\n",
       "<table border=\"1\" class=\"dataframe\">\n",
       "  <thead>\n",
       "    <tr style=\"text-align: right;\">\n",
       "      <th></th>\n",
       "      <th>Maxium Winning Bid</th>\n",
       "    </tr>\n",
       "    <tr>\n",
       "      <th>State</th>\n",
       "      <th></th>\n",
       "    </tr>\n",
       "  </thead>\n",
       "  <tbody>\n",
       "    <tr>\n",
       "      <th>West Virginia</th>\n",
       "      <td>247538077.6</td>\n",
       "    </tr>\n",
       "    <tr>\n",
       "      <th>Illinois</th>\n",
       "      <td>193002274.8</td>\n",
       "    </tr>\n",
       "    <tr>\n",
       "      <th>Michigan</th>\n",
       "      <td>187669124.0</td>\n",
       "    </tr>\n",
       "    <tr>\n",
       "      <th>Texas</th>\n",
       "      <td>186026308.8</td>\n",
       "    </tr>\n",
       "    <tr>\n",
       "      <th>Wisconsin</th>\n",
       "      <td>163258003.6</td>\n",
       "    </tr>\n",
       "  </tbody>\n",
       "</table>\n",
       "</div>"
      ],
      "text/plain": [
       "               Maxium Winning Bid\n",
       "State                            \n",
       "West Virginia         247538077.6\n",
       "Illinois              193002274.8\n",
       "Michigan              187669124.0\n",
       "Texas                 186026308.8\n",
       "Wisconsin             163258003.6"
      ]
     },
     "execution_count": 342,
     "metadata": {},
     "output_type": "execute_result"
    }
   ],
   "source": [
    "authorized_max_bid_by_state = (authorized\n",
    "                    .groupby([\"State\"])[winningBids].max()\n",
    "                    .sort_values(ascending = False)\n",
    "                    .to_frame()\n",
    "                    .rename({winningBids: \"Maxium Winning Bid\"}, axis=1))\n",
    "authorized_max_bid_by_state.head()\n"
   ]
  },
  {
   "attachments": {},
   "cell_type": "markdown",
   "metadata": {},
   "source": [
    "#### Authorized Total Winning Bids by State"
   ]
  },
  {
   "cell_type": "code",
   "execution_count": 341,
   "metadata": {},
   "outputs": [
    {
     "data": {
      "text/html": [
       "<div>\n",
       "<style scoped>\n",
       "    .dataframe tbody tr th:only-of-type {\n",
       "        vertical-align: middle;\n",
       "    }\n",
       "\n",
       "    .dataframe tbody tr th {\n",
       "        vertical-align: top;\n",
       "    }\n",
       "\n",
       "    .dataframe thead th {\n",
       "        text-align: right;\n",
       "    }\n",
       "</style>\n",
       "<table border=\"1\" class=\"dataframe\">\n",
       "  <thead>\n",
       "    <tr style=\"text-align: right;\">\n",
       "      <th></th>\n",
       "      <th>Total Winning Bids</th>\n",
       "    </tr>\n",
       "    <tr>\n",
       "      <th>State</th>\n",
       "      <th></th>\n",
       "    </tr>\n",
       "  </thead>\n",
       "  <tbody>\n",
       "    <tr>\n",
       "      <th>Mississippi</th>\n",
       "      <td>427972359.6</td>\n",
       "    </tr>\n",
       "    <tr>\n",
       "      <th>Arkansas</th>\n",
       "      <td>404126416.4</td>\n",
       "    </tr>\n",
       "    <tr>\n",
       "      <th>Michigan</th>\n",
       "      <td>352581490.6</td>\n",
       "    </tr>\n",
       "    <tr>\n",
       "      <th>West Virginia</th>\n",
       "      <td>347737683.4</td>\n",
       "    </tr>\n",
       "    <tr>\n",
       "      <th>Texas</th>\n",
       "      <td>317974011.9</td>\n",
       "    </tr>\n",
       "  </tbody>\n",
       "</table>\n",
       "</div>"
      ],
      "text/plain": [
       "               Total Winning Bids\n",
       "State                            \n",
       "Mississippi           427972359.6\n",
       "Arkansas              404126416.4\n",
       "Michigan              352581490.6\n",
       "West Virginia         347737683.4\n",
       "Texas                 317974011.9"
      ]
     },
     "execution_count": 341,
     "metadata": {},
     "output_type": "execute_result"
    }
   ],
   "source": [
    "authorized_total_bid_by_state = (authorized\n",
    "                                .groupby(\"State\")[winningBids].sum()\n",
    "                                .sort_values(ascending=False)\n",
    "                                .to_frame()\n",
    "                                .rename({winningBids: \"Total Winning Bids\"}, axis=1))\n",
    "                                \n",
    "authorized_total_bid_by_state.head()"
   ]
  },
  {
   "attachments": {},
   "cell_type": "markdown",
   "metadata": {},
   "source": [
    "#### Authorized Locations by State"
   ]
  },
  {
   "cell_type": "code",
   "execution_count": 303,
   "metadata": {},
   "outputs": [
    {
     "data": {
      "text/html": [
       "<div>\n",
       "<style scoped>\n",
       "    .dataframe tbody tr th:only-of-type {\n",
       "        vertical-align: middle;\n",
       "    }\n",
       "\n",
       "    .dataframe tbody tr th {\n",
       "        vertical-align: top;\n",
       "    }\n",
       "\n",
       "    .dataframe thead th {\n",
       "        text-align: right;\n",
       "    }\n",
       "</style>\n",
       "<table border=\"1\" class=\"dataframe\">\n",
       "  <thead>\n",
       "    <tr style=\"text-align: right;\">\n",
       "      <th></th>\n",
       "      <th>Number of Locations</th>\n",
       "    </tr>\n",
       "    <tr>\n",
       "      <th>State</th>\n",
       "      <th></th>\n",
       "    </tr>\n",
       "  </thead>\n",
       "  <tbody>\n",
       "    <tr>\n",
       "      <th>Texas</th>\n",
       "      <td>280401</td>\n",
       "    </tr>\n",
       "    <tr>\n",
       "      <th>Michigan</th>\n",
       "      <td>240796</td>\n",
       "    </tr>\n",
       "    <tr>\n",
       "      <th>Arkansas</th>\n",
       "      <td>179025</td>\n",
       "    </tr>\n",
       "    <tr>\n",
       "      <th>Mississippi</th>\n",
       "      <td>173219</td>\n",
       "    </tr>\n",
       "    <tr>\n",
       "      <th>Wisconsin</th>\n",
       "      <td>149392</td>\n",
       "    </tr>\n",
       "  </tbody>\n",
       "</table>\n",
       "</div>"
      ],
      "text/plain": [
       "             Number of Locations\n",
       "State                           \n",
       "Texas                     280401\n",
       "Michigan                  240796\n",
       "Arkansas                  179025\n",
       "Mississippi               173219\n",
       "Wisconsin                 149392"
      ]
     },
     "execution_count": 303,
     "metadata": {},
     "output_type": "execute_result"
    }
   ],
   "source": [
    "authorized_locations_by_state = (authorized\n",
    "                        .groupby(\"State\")[\"Number of Locations\"].sum()\n",
    "                        .sort_values(ascending=False)\n",
    "                        .to_frame())\n",
    "\n",
    "authorized_locations_by_state.head()"
   ]
  },
  {
   "attachments": {},
   "cell_type": "markdown",
   "metadata": {},
   "source": [
    "---\n",
    "### Cleaning & Exploratory on `defaults` + Finding Starlink Long-Form Applications"
   ]
  },
  {
   "cell_type": "code",
   "execution_count": 343,
   "metadata": {},
   "outputs": [
    {
     "data": {
      "text/html": [
       "<div>\n",
       "<style scoped>\n",
       "    .dataframe tbody tr th:only-of-type {\n",
       "        vertical-align: middle;\n",
       "    }\n",
       "\n",
       "    .dataframe tbody tr th {\n",
       "        vertical-align: top;\n",
       "    }\n",
       "\n",
       "    .dataframe thead th {\n",
       "        text-align: right;\n",
       "    }\n",
       "</style>\n",
       "<table border=\"1\" class=\"dataframe\">\n",
       "  <thead>\n",
       "    <tr style=\"text-align: right;\">\n",
       "      <th></th>\n",
       "      <th>Applicant Name</th>\n",
       "      <th>Winning Bid Name</th>\n",
       "      <th>State</th>\n",
       "      <th>County</th>\n",
       "      <th>Census Block</th>\n",
       "      <th>DA Numbers</th>\n",
       "    </tr>\n",
       "  </thead>\n",
       "  <tbody>\n",
       "    <tr>\n",
       "      <th>0</th>\n",
       "      <td>4 IP Technology and Media, LLC</td>\n",
       "      <td>TX-053-9605001</td>\n",
       "      <td>Texas</td>\n",
       "      <td>Burnet</td>\n",
       "      <td>480539605001093</td>\n",
       "      <td>DA-22-96</td>\n",
       "    </tr>\n",
       "    <tr>\n",
       "      <th>1</th>\n",
       "      <td>AB Indiana LLC</td>\n",
       "      <td>FL-021-0112021</td>\n",
       "      <td>Florida</td>\n",
       "      <td>Collier</td>\n",
       "      <td>120210112021071</td>\n",
       "      <td>DA-22-848</td>\n",
       "    </tr>\n",
       "    <tr>\n",
       "      <th>2</th>\n",
       "      <td>AB Indiana LLC</td>\n",
       "      <td>FL-021-0112021</td>\n",
       "      <td>Florida</td>\n",
       "      <td>Collier</td>\n",
       "      <td>120210112021072</td>\n",
       "      <td>DA-22-848</td>\n",
       "    </tr>\n",
       "    <tr>\n",
       "      <th>3</th>\n",
       "      <td>AB Indiana LLC</td>\n",
       "      <td>FL-021-0112021</td>\n",
       "      <td>Florida</td>\n",
       "      <td>Collier</td>\n",
       "      <td>120210112021089</td>\n",
       "      <td>DA-22-848</td>\n",
       "    </tr>\n",
       "    <tr>\n",
       "      <th>4</th>\n",
       "      <td>AB Indiana LLC</td>\n",
       "      <td>FL-021-0112021</td>\n",
       "      <td>Florida</td>\n",
       "      <td>Collier</td>\n",
       "      <td>120210112021097</td>\n",
       "      <td>DA-22-848</td>\n",
       "    </tr>\n",
       "  </tbody>\n",
       "</table>\n",
       "</div>"
      ],
      "text/plain": [
       "                   Applicant Name Winning Bid Name    State   County  \\\n",
       "0  4 IP Technology and Media, LLC   TX-053-9605001    Texas   Burnet   \n",
       "1                  AB Indiana LLC   FL-021-0112021  Florida  Collier   \n",
       "2                  AB Indiana LLC   FL-021-0112021  Florida  Collier   \n",
       "3                  AB Indiana LLC   FL-021-0112021  Florida  Collier   \n",
       "4                  AB Indiana LLC   FL-021-0112021  Florida  Collier   \n",
       "\n",
       "      Census Block DA Numbers  \n",
       "0  480539605001093   DA-22-96  \n",
       "1  120210112021071  DA-22-848  \n",
       "2  120210112021072  DA-22-848  \n",
       "3  120210112021089  DA-22-848  \n",
       "4  120210112021097  DA-22-848  "
      ]
     },
     "execution_count": 343,
     "metadata": {},
     "output_type": "execute_result"
    }
   ],
   "source": [
    "defaults = defaults.rename({\"Document\":\"DA Numbers\"}, axis=1)\n",
    "\n",
    "defaults.head()"
   ]
  },
  {
   "attachments": {},
   "cell_type": "markdown",
   "metadata": {},
   "source": [
    "#### Selecting Only Defaults for Starlink"
   ]
  },
  {
   "cell_type": "code",
   "execution_count": 344,
   "metadata": {},
   "outputs": [
    {
     "data": {
      "text/html": [
       "<div>\n",
       "<style scoped>\n",
       "    .dataframe tbody tr th:only-of-type {\n",
       "        vertical-align: middle;\n",
       "    }\n",
       "\n",
       "    .dataframe tbody tr th {\n",
       "        vertical-align: top;\n",
       "    }\n",
       "\n",
       "    .dataframe thead th {\n",
       "        text-align: right;\n",
       "    }\n",
       "</style>\n",
       "<table border=\"1\" class=\"dataframe\">\n",
       "  <thead>\n",
       "    <tr style=\"text-align: right;\">\n",
       "      <th></th>\n",
       "      <th>Applicant Name</th>\n",
       "      <th>Winning Bid Name</th>\n",
       "      <th>State</th>\n",
       "      <th>County</th>\n",
       "      <th>Census Block</th>\n",
       "      <th>DA Numbers</th>\n",
       "    </tr>\n",
       "  </thead>\n",
       "  <tbody>\n",
       "    <tr>\n",
       "      <th>145689</th>\n",
       "      <td>Starlink Services, LLC</td>\n",
       "      <td>AL-001-0207001</td>\n",
       "      <td>Alabama</td>\n",
       "      <td>Autauga</td>\n",
       "      <td>10010207001071</td>\n",
       "      <td>DA-22-848</td>\n",
       "    </tr>\n",
       "    <tr>\n",
       "      <th>145690</th>\n",
       "      <td>Starlink Services, LLC</td>\n",
       "      <td>AL-001-0207001</td>\n",
       "      <td>Alabama</td>\n",
       "      <td>Autauga</td>\n",
       "      <td>10010207001073</td>\n",
       "      <td>DA-22-848</td>\n",
       "    </tr>\n",
       "    <tr>\n",
       "      <th>145691</th>\n",
       "      <td>Starlink Services, LLC</td>\n",
       "      <td>AL-001-0207001</td>\n",
       "      <td>Alabama</td>\n",
       "      <td>Autauga</td>\n",
       "      <td>10010207001095</td>\n",
       "      <td>DA-22-848</td>\n",
       "    </tr>\n",
       "    <tr>\n",
       "      <th>145692</th>\n",
       "      <td>Starlink Services, LLC</td>\n",
       "      <td>AL-001-0208011</td>\n",
       "      <td>Alabama</td>\n",
       "      <td>Autauga</td>\n",
       "      <td>10010208011010</td>\n",
       "      <td>DA-22-848</td>\n",
       "    </tr>\n",
       "    <tr>\n",
       "      <th>145693</th>\n",
       "      <td>Starlink Services, LLC</td>\n",
       "      <td>AL-001-0208011</td>\n",
       "      <td>Alabama</td>\n",
       "      <td>Autauga</td>\n",
       "      <td>10010208011017</td>\n",
       "      <td>DA-22-848</td>\n",
       "    </tr>\n",
       "  </tbody>\n",
       "</table>\n",
       "</div>"
      ],
      "text/plain": [
       "                Applicant Name Winning Bid Name    State   County  \\\n",
       "145689  Starlink Services, LLC   AL-001-0207001  Alabama  Autauga   \n",
       "145690  Starlink Services, LLC   AL-001-0207001  Alabama  Autauga   \n",
       "145691  Starlink Services, LLC   AL-001-0207001  Alabama  Autauga   \n",
       "145692  Starlink Services, LLC   AL-001-0208011  Alabama  Autauga   \n",
       "145693  Starlink Services, LLC   AL-001-0208011  Alabama  Autauga   \n",
       "\n",
       "          Census Block DA Numbers  \n",
       "145689  10010207001071  DA-22-848  \n",
       "145690  10010207001073  DA-22-848  \n",
       "145691  10010207001095  DA-22-848  \n",
       "145692  10010208011010  DA-22-848  \n",
       "145693  10010208011017  DA-22-848  "
      ]
     },
     "execution_count": 344,
     "metadata": {},
     "output_type": "execute_result"
    }
   ],
   "source": [
    "starlink_defaults = (defaults[defaults['Applicant Name']\n",
    "                    .str\n",
    "                    .contains(\"Star\")])\n",
    "\n",
    "'''\n",
    "One-time save to csv for Starlink defaults\n",
    "starlink_defaults.to_csv(\"data/created_data/starlink_defaults.csv\", index=False)\n",
    "'''\n",
    "\n",
    "starlink_defaults.head()"
   ]
  },
  {
   "cell_type": "code",
   "execution_count": 345,
   "metadata": {},
   "outputs": [
    {
     "data": {
      "text/html": [
       "<div>\n",
       "<style scoped>\n",
       "    .dataframe tbody tr th:only-of-type {\n",
       "        vertical-align: middle;\n",
       "    }\n",
       "\n",
       "    .dataframe tbody tr th {\n",
       "        vertical-align: top;\n",
       "    }\n",
       "\n",
       "    .dataframe thead th {\n",
       "        text-align: right;\n",
       "    }\n",
       "</style>\n",
       "<table border=\"1\" class=\"dataframe\">\n",
       "  <thead>\n",
       "    <tr style=\"text-align: right;\">\n",
       "      <th></th>\n",
       "      <th></th>\n",
       "      <th></th>\n",
       "      <th></th>\n",
       "      <th></th>\n",
       "      <th></th>\n",
       "    </tr>\n",
       "    <tr>\n",
       "      <th>Applicant Name</th>\n",
       "      <th>Winning Bid Name</th>\n",
       "      <th>State</th>\n",
       "      <th>County</th>\n",
       "      <th>Census Block</th>\n",
       "      <th>DA Numbers</th>\n",
       "    </tr>\n",
       "  </thead>\n",
       "  <tbody>\n",
       "    <tr>\n",
       "      <th rowspan=\"5\" valign=\"top\">Starlink Services, LLC</th>\n",
       "      <th>AL-001-0207001</th>\n",
       "      <th>Alabama</th>\n",
       "      <th>Autauga</th>\n",
       "      <th>10010207001071</th>\n",
       "      <th>DA-22-848</th>\n",
       "    </tr>\n",
       "    <tr>\n",
       "      <th>PA-003-4070012</th>\n",
       "      <th>Pennsylvania</th>\n",
       "      <th>Allegheny</th>\n",
       "      <th>420034070012005</th>\n",
       "      <th>DA-22-848</th>\n",
       "    </tr>\n",
       "    <tr>\n",
       "      <th>PA-003-4070023</th>\n",
       "      <th>Pennsylvania</th>\n",
       "      <th>Allegheny</th>\n",
       "      <th>420034070023019</th>\n",
       "      <th>DA-22-848</th>\n",
       "    </tr>\n",
       "    <tr>\n",
       "      <th rowspan=\"2\" valign=\"top\">PA-003-4070022</th>\n",
       "      <th rowspan=\"2\" valign=\"top\">Pennsylvania</th>\n",
       "      <th rowspan=\"2\" valign=\"top\">Allegheny</th>\n",
       "      <th>420034070022027</th>\n",
       "      <th>DA-22-848</th>\n",
       "    </tr>\n",
       "    <tr>\n",
       "      <th>420034070022025</th>\n",
       "      <th>DA-22-848</th>\n",
       "    </tr>\n",
       "  </tbody>\n",
       "</table>\n",
       "</div>"
      ],
      "text/plain": [
       "Empty DataFrame\n",
       "Columns: []\n",
       "Index: [(Starlink Services, LLC, AL-001-0207001, Alabama, Autauga, 10010207001071, DA-22-848), (Starlink Services, LLC, PA-003-4070012, Pennsylvania, Allegheny, 420034070012005, DA-22-848), (Starlink Services, LLC, PA-003-4070023, Pennsylvania, Allegheny, 420034070023019, DA-22-848), (Starlink Services, LLC, PA-003-4070022, Pennsylvania, Allegheny, 420034070022027, DA-22-848), (Starlink Services, LLC, PA-003-4070022, Pennsylvania, Allegheny, 420034070022025, DA-22-848)]"
      ]
     },
     "execution_count": 345,
     "metadata": {},
     "output_type": "execute_result"
    }
   ],
   "source": [
    "# Starlink dataframe simplified\n",
    "starlink_defaults_cleaned = (starlink_defaults.value_counts()\n",
    "                            .to_frame()\n",
    "                            .drop(0, axis=1))\n",
    "\n",
    "starlink_defaults_cleaned.head()"
   ]
  },
  {
   "attachments": {},
   "cell_type": "markdown",
   "metadata": {},
   "source": [
    "#### Plotting Distribution of Census Block Codes Between All Bidders and Starlink"
   ]
  },
  {
   "cell_type": "code",
   "execution_count": null,
   "metadata": {},
   "outputs": [],
   "source": [
    "# Set figure and axes for plotting initial trends on defaults data\n",
    "fig, axes = plt.subplots(1, 2, figsize = (12, 6))\n",
    "\n",
    "defaults.plot(ax = axes[0], kind = \"hist\", title = \"Distribution of Census Block Codes\")\n",
    "defaults.plot(ax = axes[1], kind = \"hist\", title = \"Distribution of Census Block Codes\")\n",
    "\n",
    "# Plotting census block distributions for starlink bids\n",
    "starlink_defaults.plot(ax = axes[1], kind = \"hist\")\n",
    "\n",
    "# Setting legend for \n",
    "plt.legend(['All Bidders', \"Starlink\"])\n",
    "\n",
    "plt.show()"
   ]
  },
  {
   "attachments": {},
   "cell_type": "markdown",
   "metadata": {},
   "source": [
    "### Merging `authorized` with `defaults`"
   ]
  },
  {
   "cell_type": "code",
   "execution_count": null,
   "metadata": {},
   "outputs": [],
   "source": [
    "authorized.head()"
   ]
  },
  {
   "cell_type": "code",
   "execution_count": null,
   "metadata": {},
   "outputs": [],
   "source": [
    "starlink_defaults.head()"
   ]
  },
  {
   "cell_type": "code",
   "execution_count": 346,
   "metadata": {},
   "outputs": [
    {
     "data": {
      "text/html": [
       "<div>\n",
       "<style scoped>\n",
       "    .dataframe tbody tr th:only-of-type {\n",
       "        vertical-align: middle;\n",
       "    }\n",
       "\n",
       "    .dataframe tbody tr th {\n",
       "        vertical-align: top;\n",
       "    }\n",
       "\n",
       "    .dataframe thead th {\n",
       "        text-align: right;\n",
       "    }\n",
       "</style>\n",
       "<table border=\"1\" class=\"dataframe\">\n",
       "  <thead>\n",
       "    <tr style=\"text-align: right;\">\n",
       "      <th></th>\n",
       "      <th>Applicant Name_x</th>\n",
       "      <th>FRN</th>\n",
       "      <th>State_x</th>\n",
       "      <th>SAC</th>\n",
       "      <th>Total Winning Bid (over 10 Years)</th>\n",
       "      <th>Number of Locations</th>\n",
       "      <th>Winning Bidder</th>\n",
       "      <th>DA Numbers</th>\n",
       "      <th>Applicant Name_y</th>\n",
       "      <th>Winning Bid Name</th>\n",
       "      <th>State_y</th>\n",
       "      <th>County</th>\n",
       "      <th>Census Block</th>\n",
       "    </tr>\n",
       "  </thead>\n",
       "  <tbody>\n",
       "  </tbody>\n",
       "</table>\n",
       "</div>"
      ],
      "text/plain": [
       "Empty DataFrame\n",
       "Columns: [Applicant Name_x, FRN, State_x, SAC, Total Winning Bid (over 10 Years), Number of Locations, Winning Bidder, DA Numbers, Applicant Name_y, Winning Bid Name, State_y, County, Census Block]\n",
       "Index: []"
      ]
     },
     "execution_count": 346,
     "metadata": {},
     "output_type": "execute_result"
    }
   ],
   "source": [
    "authorized.merge(starlink_defaults, on=\"DA Numbers\")"
   ]
  },
  {
   "attachments": {},
   "cell_type": "markdown",
   "metadata": {},
   "source": [
    "### Cleaning & Exploratory on `ready` + Finding Systematic Differences between `ready` and `authorized` "
   ]
  },
  {
   "cell_type": "code",
   "execution_count": null,
   "metadata": {},
   "outputs": [],
   "source": [
    "ready.head()"
   ]
  },
  {
   "cell_type": "code",
   "execution_count": null,
   "metadata": {},
   "outputs": [],
   "source": [
    "ready = (ready.rename({\"Total Support Amount\\n(over 10 years)\": \n",
    "                    \"Total Support (Over 10 years)\"}, axis = 1)\n",
    "                    .sort_values([\"Total Locations\", \"Total Support (Over 10 years)\"], ascending = False))\n",
    "                    \n",
    "if 462 in ready.index: ready = ready.drop(462, axis=0)\n",
    "\n",
    "ready.head()"
   ]
  },
  {
   "cell_type": "code",
   "execution_count": 339,
   "metadata": {},
   "outputs": [
    {
     "name": "stdout",
     "output_type": "stream",
     "text": [
      "Variable                         Type           Data/Info\n",
      "---------------------------------------------------------\n",
      "FRN_by_state                     DataFrame                               <...>n\\n[382 rows x 1 columns]\n",
      "KNNImputer                       type           <class 'sklearn.impute._knn.KNNImputer'>\n",
      "LinearRegression                 ABCMeta        <class 'sklearn.linear_mo<...>._base.LinearRegression'>\n",
      "MinMaxScaler                     type           <class 'sklearn.preproces<...>sing._data.MinMaxScaler'>\n",
      "OneHotEncoder                    type           <class 'sklearn.preproces<...>_encoders.OneHotEncoder'>\n",
      "SimpleImputer                    type           <class 'sklearn.impute._base.SimpleImputer'>\n",
      "StandardScaler                   type           <class 'sklearn.preproces<...>ng._data.StandardScaler'>\n",
      "authorized                       DataFrame                             Ap<...>n\\n[462 rows x 8 columns]\n",
      "authorized_FRN_by_state          DataFrame                               <...>n\\n[382 rows x 1 columns]\n",
      "authorized_bids_by_state         DataFrame                               <...>                 320106.0\n",
      "authorized_by_state              DataFrame                               <...>                 320106.0\n",
      "authorized_num_by_state          DataFrame                               <...>                       80\n",
      "authorized_total_bid_by_state    DataFrame                               <...>                 320106.0\n",
      "axes                             ndarray        2: 2 elems, type `object`, 16 bytes\n",
      "defaults                         DataFrame                              A<...>[266994 rows x 6 columns]\n",
      "fastparquet                      module         <module 'fastparquet' fro<...>fastparquet/__init__.py'>\n",
      "fig                              Figure         Figure(864x432)\n",
      "log_bid_histplot                 AxesSubplot    AxesSubplot(0.125,0.125;0.775x0.755)\n",
      "mean_absolute_error              function       <function mean_absolute_error at 0x7fc6d8f591f0>\n",
      "mean_absolute_percentage_error   function       <function mean_absolute_p<...>_error at 0x7fc6d8f59ca0>\n",
      "mean_squared_error               function       <function mean_squared_error at 0x7fc6d8f59b80>\n",
      "np                               module         <module 'numpy' from '/Us<...>kages/numpy/__init__.py'>\n",
      "pd                               module         <module 'pandas' from '/U<...>ages/pandas/__init__.py'>\n",
      "plt                              module         <module 'matplotlib.pyplo<...>es/matplotlib/pyplot.py'>\n",
      "pyarrow                          module         <module 'pyarrow' from '/<...>ges/pyarrow/__init__.py'>\n",
      "re                               module         <module 're' from '/Users<...>da3/lib/python3.9/re.py'>\n",
      "ready                            DataFrame                               <...>n\\n[462 rows x 6 columns]\n",
      "ready_FRN_by_State               DataFrame                               <...>n\\n[382 rows x 1 columns]\n",
      "sat                              DataFrame             LogRecNo  Provider<...>100000 rows x 15 columns]\n",
      "sklearn                          module         <module 'sklearn' from '/<...>ges/sklearn/__init__.py'>\n",
      "sns                              module         <module 'seaborn' from '/<...>ges/seaborn/__init__.py'>\n",
      "starlink_defaults                DataFrame                      Applicant<...>[113905 rows x 6 columns]\n",
      "starlink_defaults_cleaned        DataFrame      Empty DataFrame\\nColumns:<...>[113905 rows x 0 columns]\n",
      "train_test_split                 function       <function train_test_split at 0x7fc6cb34c940>\n",
      "winningBids                      str            Total Winning Bid (over 10 Years)\n",
      "winning_bids                     str            Total Winning Bid (oer 10 Years)\n"
     ]
    }
   ],
   "source": [
    "%whos"
   ]
  },
  {
   "cell_type": "code",
   "execution_count": null,
   "metadata": {},
   "outputs": [],
   "source": []
  }
 ],
 "metadata": {
  "kernelspec": {
   "display_name": "base",
   "language": "python",
   "name": "python3"
  },
  "language_info": {
   "codemirror_mode": {
    "name": "ipython",
    "version": 3
   },
   "file_extension": ".py",
   "mimetype": "text/x-python",
   "name": "python",
   "nbconvert_exporter": "python",
   "pygments_lexer": "ipython3",
   "version": "3.9.12"
  },
  "orig_nbformat": 4,
  "vscode": {
   "interpreter": {
    "hash": "a0e1a6da8fdfbd8e8573f5b6deb86d22b24be091808eb94e3ca2f0153b1bbe18"
   }
  }
 },
 "nbformat": 4,
 "nbformat_minor": 2
}
